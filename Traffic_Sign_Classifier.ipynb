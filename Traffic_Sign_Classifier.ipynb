{
 "cells": [
  {
   "cell_type": "markdown",
   "metadata": {
    "deletable": true,
    "editable": true
   },
   "source": [
    "# Self-Driving Car Engineer Nanodegree\n",
    "\n",
    "## Deep Learning\n",
    "\n",
    "## Project: Build a Traffic Sign Recognition Classifier\n",
    "\n",
    "In this notebook, a template is provided for you to implement your functionality in stages, which is required to successfully complete this project. If additional code is required that cannot be included in the notebook, be sure that the Python code is successfully imported and included in your submission if necessary. \n",
    "\n",
    "> **Note**: Once you have completed all of the code implementations, you need to finalize your work by exporting the iPython Notebook as an HTML document. Before exporting the notebook to html, all of the code cells need to have been run so that reviewers can see the final implementation and output. You can then export the notebook by using the menu above and navigating to  \\n\",\n",
    "    \"**File -> Download as -> HTML (.html)**. Include the finished document along with this notebook as your submission. \n",
    "\n",
    "In addition to implementing code, there is a writeup to complete. The writeup should be completed in a separate file, which can be either a markdown file or a pdf document. There is a [write up template](https://github.com/udacity/CarND-Traffic-Sign-Classifier-Project/blob/master/writeup_template.md) that can be used to guide the writing process. Completing the code template and writeup template will cover all of the [rubric points](https://review.udacity.com/#!/rubrics/481/view) for this project.\n",
    "\n",
    "The [rubric](https://review.udacity.com/#!/rubrics/481/view) contains \"Stand Out Suggestions\" for enhancing the project beyond the minimum requirements. The stand out suggestions are optional. If you decide to pursue the \"stand out suggestions\", you can include the code in this Ipython notebook and also discuss the results in the writeup file.\n",
    "\n",
    "\n",
    ">**Note:** Code and Markdown cells can be executed using the **Shift + Enter** keyboard shortcut. In addition, Markdown cells can be edited by typically double-clicking the cell to enter edit mode."
   ]
  },
  {
   "cell_type": "markdown",
   "metadata": {
    "deletable": true,
    "editable": true
   },
   "source": [
    "---\n",
    "## Step 0: Load The Data"
   ]
  },
  {
   "cell_type": "code",
   "execution_count": 1,
   "metadata": {
    "collapsed": false,
    "deletable": true,
    "editable": true
   },
   "outputs": [],
   "source": [
    "# Load pickled data\n",
    "import pickle\n",
    "# TODO: Fill this in based on where you saved the training and testing data\n",
    "\n",
    "training_file = \"train.p\"\n",
    "validation_file= \"valid.p\"\n",
    "testing_file = \"test.p\"\n",
    "\n",
    "with open(training_file, mode='rb') as f:\n",
    "    train = pickle.load(f)\n",
    "with open(validation_file, mode='rb') as f:\n",
    "    valid = pickle.load(f)\n",
    "with open(testing_file, mode='rb') as f:\n",
    "    test = pickle.load(f)\n",
    "\n",
    "# reduce to reduce training time    \n",
    "training_set_size = 10000\n",
    "X_train, y_train = train['features'], train['labels']\n",
    "X_valid, y_valid = valid['features'], valid['labels']\n",
    "X_test, y_test = test['features'], test['labels']"
   ]
  },
  {
   "cell_type": "markdown",
   "metadata": {
    "deletable": true,
    "editable": true
   },
   "source": [
    "---\n",
    "\n",
    "## Step 1: Dataset Summary & Exploration\n",
    "\n",
    "The pickled data is a dictionary with 4 key/value pairs:\n",
    "\n",
    "- `'features'` is a 4D array containing raw pixel data of the traffic sign images, (num examples, width, height, channels).\n",
    "- `'labels'` is a 1D array containing the label/class id of the traffic sign. The file `signnames.csv` contains id -> name mappings for each id.\n",
    "- `'sizes'` is a list containing tuples, (width, height) representing the original width and height the image.\n",
    "- `'coords'` is a list containing tuples, (x1, y1, x2, y2) representing coordinates of a bounding box around the sign in the image. **THESE COORDINATES ASSUME THE ORIGINAL IMAGE. THE PICKLED DATA CONTAINS RESIZED VERSIONS (32 by 32) OF THESE IMAGES**\n",
    "\n",
    "Complete the basic data summary below. Use python, numpy and/or pandas methods to calculate the data summary rather than hard coding the results. For example, the [pandas shape method](http://pandas.pydata.org/pandas-docs/stable/generated/pandas.DataFrame.shape.html) might be useful for calculating some of the summary results. "
   ]
  },
  {
   "cell_type": "markdown",
   "metadata": {
    "deletable": true,
    "editable": true
   },
   "source": [
    "### Provide a Basic Summary of the Data Set Using Python, Numpy and/or Pandas"
   ]
  },
  {
   "cell_type": "code",
   "execution_count": 2,
   "metadata": {
    "collapsed": false,
    "deletable": true,
    "editable": true
   },
   "outputs": [
    {
     "name": "stdout",
     "output_type": "stream",
     "text": [
      "Number of training examples = 34799\n",
      "Number of testing examples = 12630\n",
      "Number of validation examples = 4410\n",
      "Image data shape = (32, 32, 3)\n",
      "Number of classes = 43\n"
     ]
    }
   ],
   "source": [
    "import numpy as np\n",
    "\n",
    "n_train = len(X_train)\n",
    "n_test = len(X_test)\n",
    "n_valid = len(X_valid)\n",
    "image_shape = X_train[0].shape\n",
    "n_classes = len(np.unique(y_train))\n",
    "\n",
    "print(\"Number of training examples =\", n_train)\n",
    "print(\"Number of testing examples =\", n_test)\n",
    "print(\"Number of validation examples =\", n_valid)\n",
    "print(\"Image data shape =\", image_shape)\n",
    "print(\"Number of classes =\", n_classes)"
   ]
  },
  {
   "cell_type": "markdown",
   "metadata": {
    "deletable": true,
    "editable": true
   },
   "source": [
    "### Include an exploratory visualization of the dataset"
   ]
  },
  {
   "cell_type": "markdown",
   "metadata": {
    "deletable": true,
    "editable": true
   },
   "source": [
    "Visualize the German Traffic Signs Dataset using the pickled file(s). This is open ended, suggestions include: plotting traffic sign images, plotting the count of each sign, etc.\n",
    "\n",
    "The [Matplotlib](http://matplotlib.org/) [examples](http://matplotlib.org/examples/index.html) and [gallery](http://matplotlib.org/gallery.html) pages are a great resource for doing visualizations in Python.\n",
    "\n",
    "**NOTE:** It's recommended you start with something simple first. If you wish to do more, come back to it after you've completed the rest of the sections."
   ]
  },
  {
   "cell_type": "markdown",
   "metadata": {
    "deletable": true,
    "editable": true
   },
   "source": [
    "----\n",
    "\n",
    "## Step 2: Design and Test a Model Architecture\n",
    "\n",
    "Design and implement a deep learning model that learns to recognize traffic signs. Train and test your model on the [German Traffic Sign Dataset](http://benchmark.ini.rub.de/?section=gtsrb&subsection=dataset).\n",
    "\n",
    "The LeNet-5 implementation shown in the [classroom](https://classroom.udacity.com/nanodegrees/nd013/parts/fbf77062-5703-404e-b60c-95b78b2f3f9e/modules/6df7ae49-c61c-4bb2-a23e-6527e69209ec/lessons/601ae704-1035-4287-8b11-e2c2716217ad/concepts/d4aca031-508f-4e0b-b493-e7b706120f81) at the end of the CNN lesson is a solid starting point. You'll have to change the number of classes and possibly the preprocessing, but aside from that it's plug and play! \n",
    "\n",
    "With the LeNet-5 solution from the lecture, you should expect a validation set accuracy of about 0.89. To meet specifications, the validation set accuracy will need to be at least 0.93. It is possible to get an even higher accuracy, but 0.93 is the minimum for a successful project submission. \n",
    "\n",
    "There are various aspects to consider when thinking about this problem:\n",
    "\n",
    "- Neural network architecture (is the network over or underfitting?)\n",
    "- Play around preprocessing techniques (normalization, rgb to grayscale, etc)\n",
    "- Number of examples per label (some have more than others).\n",
    "- Generate fake data.\n",
    "\n",
    "Here is an example of a [published baseline model on this problem](http://yann.lecun.com/exdb/publis/pdf/sermanet-ijcnn-11.pdf). It's not required to be familiar with the approach used in the paper but, it's good practice to try to read papers like these."
   ]
  },
  {
   "cell_type": "code",
   "execution_count": 3,
   "metadata": {
    "collapsed": false,
    "deletable": true,
    "editable": true
   },
   "outputs": [
    {
     "name": "stdout",
     "output_type": "stream",
     "text": [
      "(array([ 7200.,  4560.,  6180.,  3510.,  2550.,  2640.,  1470.,  1889.,\n",
      "        1950.,  2850.]), array([  0. ,   4.2,   8.4,  12.6,  16.8,  21. ,  25.2,  29.4,  33.6,\n",
      "        37.8,  42. ]), <a list of 10 Patch objects>)\n",
      "label: 12\n"
     ]
    },
    {
     "data": {
      "image/png": "[encoded data removed]",
      "text/plain": [
       "<matplotlib.figure.Figure at 0x1aabc17ae10>"
      ]
     },
     "metadata": {},
     "output_type": "display_data"
    }
   ],
   "source": [
    "import matplotlib.pyplot as plt\n",
    "# Visualizations will be shown in the notebook.\n",
    "%matplotlib inline\n",
    "print(plt.hist(y_train))\n",
    "image = 29000\n",
    "print(\"label: \" + str(train[\"labels\"][image]))\n",
    "#plt.imshow(train[\"features\"][image])"
   ]
  },
  {
   "cell_type": "code",
   "execution_count": 4,
   "metadata": {
    "collapsed": false,
    "deletable": true,
    "editable": true
   },
   "outputs": [],
   "source": [
    "import cv2\n",
    "from random import randint\n",
    "\n",
    "\n",
    "def rotate(image):\n",
    "    #rotate the image randomly by +15 to -15 degrees\n",
    "    rows, cols, depth = image.shape\n",
    "    M = cv2.getRotationMatrix2D((cols/2, rows/2), randint(-15, 15), 1)\n",
    "    return cv2.warpAffine(image, M, (cols, rows))\n",
    "\n",
    "def translate(image):\n",
    "    #shift the traffic sign randomly in the image\n",
    "    rows, cols, depth = image.shape\n",
    "    M = np.float32([[1,0,randint(-8, 8)],[0,1,randint(-8, 8)]])\n",
    "    return cv2.warpAffine(image,M,(cols,rows))"
   ]
  },
  {
   "cell_type": "markdown",
   "metadata": {
    "deletable": true,
    "editable": true
   },
   "source": [
    "### Pre-process the Data Set (normalization, grayscale, etc.)"
   ]
  },
  {
   "cell_type": "markdown",
   "metadata": {
    "deletable": true,
    "editable": true
   },
   "source": [
    "Use the code cell (or multiple code cells, if necessary) to implement the first step of your project."
   ]
  },
  {
   "cell_type": "code",
   "execution_count": 5,
   "metadata": {
    "collapsed": false,
    "deletable": true,
    "editable": true
   },
   "outputs": [
    {
     "name": "stdout",
     "output_type": "stream",
     "text": [
      "Number of training examples = 243593\n"
     ]
    }
   ],
   "source": [
    "### Preprocess the data here. Preprocessing steps could include normalization, converting to grayscale, etc.\n",
    "### Feel free to use as many code cells as needed.\n",
    "import numpy as np\n",
    "import matplotlib.pyplot as plt\n",
    "%matplotlib inline\n",
    "\n",
    "#extend the training data\n",
    "#create 6 fake images for each original image\n",
    "X_train_extended = np.repeat(X_train, 7, axis=0)\n",
    "y_train_extended = np.repeat(y_train, 7, axis=0)\n",
    "\n",
    "for i in range(len(X_train_extended), 7):\n",
    "    #create 3 randomly translated signs\n",
    "    X_train_extended[i] = translate(X_train_extended[i])\n",
    "    X_train_extended[i + 1] = translate(X_train_extended[i + 1])\n",
    "    X_train_extended[i + 2] = translate(X_train_extended[i + 2])\n",
    "    #create 3 randomly rotated signs\n",
    "    X_train_extended[i + 3] = rotate(X_train_extended[i + 3])\n",
    "    X_train_extended[i + 4] = rotate(X_train_extended[i + 4])\n",
    "    X_train_extended[i + 5] = rotate(X_train_extended[i + 5])\n",
    "\n",
    "print(\"Number of training examples =\", len(X_train_extended))"
   ]
  },
  {
   "cell_type": "markdown",
   "metadata": {
    "deletable": true,
    "editable": true
   },
   "source": [
    "### Model Architecture"
   ]
  },
  {
   "cell_type": "code",
   "execution_count": 6,
   "metadata": {
    "collapsed": false,
    "deletable": true,
    "editable": true
   },
   "outputs": [
    {
     "name": "stdout",
     "output_type": "stream",
     "text": [
      "(?, 15, 15, 9)\n",
      "(?, 7, 7, 27)\n",
      "(?, 3, 3, 81)\n",
      "(?, 729)\n"
     ]
    }
   ],
   "source": [
    "import tensorflow as tf\n",
    "from tensorflow.contrib.layers import flatten\n",
    "\n",
    "#clean the current tensorflow graph\n",
    "tf.reset_default_graph()\n",
    "\n",
    "#define tesnsorflow placeholders\n",
    "features = tf.placeholder(tf.float32, shape=[None, 32, 32, 3])\n",
    "labels = tf.placeholder(tf.int32, shape=[None])\n",
    "keep_prob = tf.placeholder(tf.float32)\n",
    "top_k_number = tf.placeholder(tf.int32)\n",
    "\n",
    "\n",
    "mu = 0\n",
    "sigma = 0.1\n",
    "\n",
    "\n",
    "# Layer 1: Convolutional. Input = 32x32x3. Output = 16x16x9.\n",
    "conv1_W = tf.Variable(tf.truncated_normal(shape=(4, 4, 3, 9), mean = mu, stddev = sigma), name=\"conv1_W\")\n",
    "conv1_b = tf.Variable(tf.zeros(9), name=\"conv1_b\")\n",
    "conv1   = tf.nn.conv2d(features, conv1_W, strides=[1, 2, 2, 1], padding='VALID', name=\"conv1\") + conv1_b\n",
    "conv1 = tf.nn.relu(conv1, name=\"conv1_relu\")\n",
    "print(conv1.get_shape())\n",
    "\n",
    "# Layer 2: Convolutional. Output = 7x7x27.\n",
    "conv2_W = tf.Variable(tf.truncated_normal(shape=(3, 3, 9, 27), mean = mu, stddev = sigma), name=\"conv2_W\")\n",
    "conv2_b = tf.Variable(tf.zeros(27), name=\"conv2_b\")\n",
    "conv2   = tf.nn.conv2d(conv1, conv2_W, strides=[1, 2, 2, 1], padding='VALID', name=\"conv2_conv\") + conv2_b\n",
    "conv2 = tf.nn.relu(conv2, name=\"conv2_relu\")\n",
    "\n",
    "print(conv2.get_shape())\n",
    "\n",
    "#  Layer 3: Convolutional. Output = 3x3x81.\n",
    "conv3_W = tf.Variable(tf.truncated_normal(shape=(2, 2, 27, 81), mean = mu, stddev = sigma), name=\"conv3_W\")\n",
    "conv3_b = tf.Variable(tf.zeros(81), name=\"conv3_b\")\n",
    "conv3   = tf.nn.conv2d(conv2, conv3_W, strides=[1, 2, 2, 1], padding='VALID', name=\"conv3_conv\") + conv3_b\n",
    "conv3 = tf.nn.relu(conv3, name=\"conv3_relu\")\n",
    "print(conv3.get_shape())\n",
    "\n",
    "# Flatten. Input = 3x3x34. Output = 306.\n",
    "fc0   = flatten(conv3)\n",
    "print(fc0.get_shape())\n",
    "\n",
    "#apply dropout\n",
    "fc0 = tf.nn.dropout(fc0, keep_prob + ((1 - keep_prob) / 2), name=\"fc0_dropout\")\n",
    "\n",
    "# Layer 4: Fully Connected. Input = 729. Output = 100.\n",
    "fc2_W  = tf.Variable(tf.truncated_normal(shape=(729, 100), mean = mu, stddev = sigma), name=\"fc2_W\")\n",
    "fc2_b  = tf.Variable(tf.zeros(100), name=\"fc2_b\")\n",
    "fc2    = tf.nn.relu(tf.matmul(fc0, fc2_W) + fc2_b, name=\"fc2\")\n",
    "\n",
    "#apply dropout\n",
    "fc2 = tf.nn.dropout(fc2, keep_prob)\n",
    "\n",
    "# Layer 5: Fully Connected. Input = 100. Output = n_classes.\n",
    "fc3_W  = tf.Variable(tf.truncated_normal(shape=(100, n_classes), mean = mu, stddev = sigma), name=\"fc3_W\")\n",
    "fc3_b  = tf.Variable(tf.zeros(n_classes), name=\"fc3_b\")\n",
    "\n",
    "logits = tf.matmul(fc2, fc3_W) + fc3_b\n",
    "softmax = tf.nn.softmax(logits)\n",
    "sign_id_prediction = tf.argmax(tf.reshape(logits, shape=[-1]), axis=0) \n",
    "sign_top_predictions = tf.nn.top_k(softmax, top_k_number)\n",
    "\n",
    "#initialize hyperparameters\n",
    "learning_rate = 0.001\n",
    "batch_size = 200\n",
    "max_epochs = 100\n",
    "beta = 0.01\n",
    "\n",
    "\n",
    "labels_one_hot = tf.one_hot(labels, n_classes)\n",
    "regularizers = tf.nn.l2_loss(fc2_W) + tf.nn.l2_loss(fc3_W)\n",
    "loss = tf.nn.softmax_cross_entropy_with_logits(logits=logits, labels=labels_one_hot)\n",
    "loss_operation = tf.reduce_mean(loss + beta * regularizers)\n",
    "optimizer = tf.train.AdamOptimizer(learning_rate = learning_rate)\n",
    "training_operation = optimizer.minimize(loss_operation)\n",
    "\n",
    "correct_prediction = tf.equal(tf.argmax(logits, 1), tf.argmax(labels_one_hot, 1))\n",
    "accuracy_operation = tf.reduce_mean(tf.cast(correct_prediction, tf.float32))"
   ]
  },
  {
   "cell_type": "markdown",
   "metadata": {
    "deletable": true,
    "editable": true
   },
   "source": [
    "### Train, Validate and Test the Model"
   ]
  },
  {
   "cell_type": "markdown",
   "metadata": {
    "deletable": true,
    "editable": true
   },
   "source": [
    "A validation set can be used to assess how well the model is performing. A low accuracy on the training and validation\n",
    "sets imply underfitting. A high accuracy on the training set but low accuracy on the validation set implies overfitting."
   ]
  },
  {
   "cell_type": "code",
   "execution_count": 7,
   "metadata": {
    "collapsed": false,
    "deletable": true,
    "editable": true
   },
   "outputs": [
    {
     "name": "stdout",
     "output_type": "stream",
     "text": [
      "[ 0  1  2  3  4  5  6  7  8  9 10 11 12 13 14]\n",
      "12.0\n",
      "7.0\n"
     ]
    }
   ],
   "source": [
    "a = np.arange(15)\n",
    "print(a)\n",
    "print(np.median(a[(15-5):15]))\n",
    "print(np.median(a[(15-10):(15-5)]))"
   ]
  },
  {
   "cell_type": "code",
   "execution_count": null,
   "metadata": {
    "collapsed": false,
    "deletable": true,
    "editable": true
   },
   "outputs": [
    {
     "name": "stdout",
     "output_type": "stream",
     "text": [
      "Training...\n",
      "epoch 1\n",
      "validation_accuracy: 0.253061226901\n",
      "train_accuracy: 0.285410488132\n",
      "epoch 2\n",
      "validation_accuracy: 0.494784569524\n",
      "train_accuracy: 0.578551083026\n",
      "epoch 3\n",
      "validation_accuracy: 0.714965983854\n",
      "train_accuracy: 0.790683629228\n",
      "epoch 4\n",
      "validation_accuracy: 0.798185949693\n",
      "train_accuracy: 0.87700796953\n",
      "epoch 5\n",
      "validation_accuracy: 0.845578229617\n",
      "train_accuracy: 0.910256071268\n",
      "epoch 6\n",
      "validation_accuracy: 0.857596377937\n",
      "train_accuracy: 0.927957729489\n",
      "epoch 7\n",
      "validation_accuracy: 0.878911569275\n",
      "train_accuracy: 0.941147758152\n",
      "epoch 8\n",
      "validation_accuracy: 0.885034025932\n",
      "train_accuracy: 0.949625012257\n",
      "epoch 9\n",
      "validation_accuracy: 0.899319734703\n",
      "train_accuracy: 0.960113813637\n",
      "epoch 10\n",
      "validation_accuracy: 0.913151923761\n",
      "train_accuracy: 0.964338069833\n",
      "epoch 11\n",
      "validation_accuracy: 0.910657605887\n",
      "train_accuracy: 0.968964635786\n",
      "epoch 12\n",
      "validation_accuracy: 0.916780046325\n",
      "train_accuracy: 0.973102682052\n",
      "epoch 13\n",
      "validation_accuracy: 0.919954657284\n",
      "train_accuracy: 0.974252141891\n",
      "epoch 14\n",
      "validation_accuracy: 0.924036288748\n",
      "train_accuracy: 0.978390187376\n",
      "epoch 15\n",
      "validation_accuracy: 0.921768711808\n",
      "train_accuracy: 0.981033939428\n",
      "epoch 16\n",
      "validation_accuracy: 0.930612243492\n",
      "train_accuracy: 0.980143109392\n",
      "epoch 17\n",
      "validation_accuracy: 0.926077105831\n",
      "train_accuracy: 0.977643041306\n",
      "epoch 18\n",
      "validation_accuracy: 0.930839011458\n",
      "train_accuracy: 0.984999567061\n",
      "epoch 19\n",
      "validation_accuracy: 0.923356011882\n",
      "train_accuracy: 0.982010979358\n",
      "epoch 20\n",
      "validation_accuracy: 0.936734705555\n",
      "train_accuracy: 0.985430613371\n",
      "epoch 21\n",
      "validation_accuracy: 0.941043088766\n",
      "train_accuracy: 0.987011118104\n",
      "epoch 22\n",
      "validation_accuracy: 0.930612248899\n",
      "train_accuracy: 0.986809963163\n",
      "epoch 23\n",
      "validation_accuracy: 0.930385505261\n",
      "train_accuracy: 0.987097327811\n",
      "epoch 24\n",
      "validation_accuracy: 0.94217686372\n",
      "train_accuracy: 0.988131838014\n"
     ]
    }
   ],
   "source": [
    "import matplotlib.pyplot as plt\n",
    "from sklearn.utils import shuffle\n",
    "\n",
    "saver = tf.train.Saver()\n",
    "checkpoint_path = \"\"\n",
    "checkpoint_dir = \"./final_model.ckpt\"\n",
    "validation_accuracy = []\n",
    "train_accuracy = []\n",
    "stop = False;\n",
    "\n",
    "\n",
    "def evaluate(X_data, y_data):\n",
    "    #evaluate prediction accuracy\n",
    "    num_examples = len(X_data)\n",
    "    total_accuracy = 0\n",
    "    sess = tf.get_default_session()\n",
    "    for offset in range(0, num_examples, batch_size):\n",
    "        batch_x, batch_y = X_data[offset:offset+batch_size], y_data[offset:offset+batch_size]\n",
    "        accuracy = sess.run(accuracy_operation, feed_dict={features: batch_x, labels: batch_y, keep_prob: 1})\n",
    "        total_accuracy += (accuracy * len(batch_x))\n",
    "    return total_accuracy / num_examples\n",
    "\n",
    "with tf.Session() as sess:\n",
    "    sess.run(tf.global_variables_initializer())\n",
    "    print(\"Training...\")\n",
    "    epoch = 0\n",
    "    while(epoch<max_epochs and stop==False):\n",
    "        X_train, y_train = shuffle(X_train_extended, y_train_extended)\n",
    "        for offset in range(0, n_train, batch_size):\n",
    "            end = offset + batch_size\n",
    "            batch_x, batch_y = X_train[offset:end], y_train[offset:end]\n",
    "            #train the NN\n",
    "            sess.run(training_operation, feed_dict={features: batch_x, labels: batch_y, keep_prob: 0.5})\n",
    "        #print training and validazion set accuracies for developing  \n",
    "        validation_accuracy.append(evaluate(X_valid, y_valid))\n",
    "        train_accuracy.append(evaluate(X_train, y_train))\n",
    "        print(\"epoch \" + str(epoch + 1))\n",
    "        print(\"validation_accuracy: \" + str(validation_accuracy[epoch]))\n",
    "        print(\"train_accuracy: \" + str(train_accuracy[epoch]))\n",
    "        #early stopping\n",
    "        if(epoch > 20):\n",
    "            if(np.median(validation_accuracy[(epoch-10):(epoch+1)])\n",
    "               <  np.median(validation_accuracy[(epoch-20):(epoch-10)]) + 0.005):\n",
    "               stop = True;\n",
    "        epoch += 1\n",
    "        \n",
    "    checkpoint_path = saver.save(sess, checkpoint_dir)\n",
    "    print(\"model saved in \" + checkpoint_path)\n",
    "        \n",
    "plt.plot(validation_accuracy)\n",
    "plt.plot(train_accuracy)\n",
    "plt.show()"
   ]
  },
  {
   "cell_type": "code",
   "execution_count": 33,
   "metadata": {
    "collapsed": false,
    "deletable": true,
    "editable": true
   },
   "outputs": [
    {
     "name": "stdout",
     "output_type": "stream",
     "text": [
      "0.939034044318\n"
     ]
    }
   ],
   "source": [
    "with tf.Session() as sess:    \n",
    "    saver.restore(sess, checkpoint_dir)\n",
    "    test_accuracy = evaluate(X_test, y_test)\n",
    "    print(test_accuracy)"
   ]
  },
  {
   "cell_type": "markdown",
   "metadata": {
    "deletable": true,
    "editable": true
   },
   "source": [
    "# ---\n",
    "\n",
    "### Step 3: Test a Model on New Images\n",
    "\n",
    "To give yourself more insight into how your model is working, download at least five pictures of German traffic signs from the web and use your model to predict the traffic sign type.\n",
    "\n",
    "You may find `signnames.csv` useful as it contains mappings from the class id (integer) to the actual sign name."
   ]
  },
  {
   "cell_type": "markdown",
   "metadata": {
    "deletable": true,
    "editable": true
   },
   "source": [
    "### Load and Output the Images"
   ]
  },
  {
   "cell_type": "code",
   "execution_count": 61,
   "metadata": {
    "collapsed": false,
    "deletable": true,
    "editable": true
   },
   "outputs": [
    {
     "data": {
      "text/plain": [
       "<matplotlib.image.AxesImage at 0x1b792496908>"
      ]
     },
     "execution_count": 61,
     "metadata": {},
     "output_type": "execute_result"
    },
    {
     "data": {
      "image/png": "[encoded data removed]",
      "text/plain": [
       "<matplotlib.figure.Figure at 0x1b79234e0b8>"
      ]
     },
     "metadata": {},
     "output_type": "display_data"
    }
   ],
   "source": [
    "from scipy import misc\n",
    "import matplotlib.pyplot as plt\n",
    "# Visualizations will be shown in the notebook.\n",
    "%matplotlib inline\n",
    "    \n",
    "images = []\n",
    "for i in range(5):\n",
    "    #store images in a list\n",
    "    images.append(misc.imread(\"new_images/\" + str(i) + \".png\"))\n",
    "    images[i] = images[i][0:32, 0:32, 0:3]\n",
    "plt.imshow(images[0])"
   ]
  },
  {
   "cell_type": "code",
   "execution_count": 9,
   "metadata": {
    "collapsed": false,
    "deletable": true,
    "editable": true
   },
   "outputs": [
    {
     "data": {
      "text/plain": [
       "<matplotlib.image.AxesImage at 0x1b765008208>"
      ]
     },
     "execution_count": 9,
     "metadata": {},
     "output_type": "execute_result"
    },
    {
     "data": {
      "image/png": "[encoded data removed]",
      "text/plain": [
       "<matplotlib.figure.Figure at 0x1b763d0c0f0>"
      ]
     },
     "metadata": {},
     "output_type": "display_data"
    }
   ],
   "source": [
    "plt.imshow(images[1])"
   ]
  },
  {
   "cell_type": "code",
   "execution_count": 10,
   "metadata": {
    "collapsed": false,
    "deletable": true,
    "editable": true
   },
   "outputs": [
    {
     "data": {
      "text/plain": [
       "<matplotlib.image.AxesImage at 0x1b791dc07f0>"
      ]
     },
     "execution_count": 10,
     "metadata": {},
     "output_type": "execute_result"
    },
    {
     "data": {
      "image/png": "[encoded data removed]",
      "text/plain": [
       "<matplotlib.figure.Figure at 0x1b765029a58>"
      ]
     },
     "metadata": {},
     "output_type": "display_data"
    }
   ],
   "source": [
    "plt.imshow(images[2])"
   ]
  },
  {
   "cell_type": "code",
   "execution_count": 11,
   "metadata": {
    "collapsed": false,
    "deletable": true,
    "editable": true
   },
   "outputs": [
    {
     "data": {
      "text/plain": [
       "<matplotlib.image.AxesImage at 0x1b791e25ef0>"
      ]
     },
     "execution_count": 11,
     "metadata": {},
     "output_type": "execute_result"
    },
    {
     "data": {
      "image/png": "[encoded data removed]",
      "text/plain": [
       "<matplotlib.figure.Figure at 0x1b791de16a0>"
      ]
     },
     "metadata": {},
     "output_type": "display_data"
    }
   ],
   "source": [
    "plt.imshow(images[3])"
   ]
  },
  {
   "cell_type": "code",
   "execution_count": 24,
   "metadata": {
    "collapsed": false,
    "deletable": true,
    "editable": true
   },
   "outputs": [
    {
     "data": {
      "text/plain": [
       "<matplotlib.image.AxesImage at 0x1b7922a6470>"
      ]
     },
     "execution_count": 24,
     "metadata": {},
     "output_type": "execute_result"
    },
    {
     "data": {
      "image/png": "[encoded data removed]",
      "text/plain": [
       "<matplotlib.figure.Figure at 0x1b7925c3320>"
      ]
     },
     "metadata": {},
     "output_type": "display_data"
    }
   ],
   "source": [
    "plt.imshow(images[4])"
   ]
  },
  {
   "cell_type": "markdown",
   "metadata": {
    "deletable": true,
    "editable": true
   },
   "source": [
    "### Predict the Sign Type for Each Image"
   ]
  },
  {
   "cell_type": "code",
   "execution_count": 14,
   "metadata": {
    "collapsed": false,
    "deletable": true,
    "editable": true
   },
   "outputs": [
    {
     "name": "stdout",
     "output_type": "stream",
     "text": [
      "35\n",
      "12\n",
      "25\n",
      "14\n",
      "17\n",
      "['ClassId', 'SignName']\n",
      "['0', 'Speed limit (20km/h)']\n",
      "['1', 'Speed limit (30km/h)']\n",
      "['2', 'Speed limit (50km/h)']\n",
      "['3', 'Speed limit (60km/h)']\n",
      "['4', 'Speed limit (70km/h)']\n",
      "['5', 'Speed limit (80km/h)']\n",
      "['6', 'End of speed limit (80km/h)']\n",
      "['7', 'Speed limit (100km/h)']\n",
      "['8', 'Speed limit (120km/h)']\n",
      "['9', 'No passing']\n",
      "['10', 'No passing for vehicles over 3.5 metric tons']\n",
      "['11', 'Right-of-way at the next intersection']\n",
      "['12', 'Priority road']\n",
      "['13', 'Yield']\n",
      "['14', 'Stop']\n",
      "['15', 'No vehicles']\n",
      "['16', 'Vehicles over 3.5 metric tons prohibited']\n",
      "['17', 'No entry']\n",
      "['18', 'General caution']\n",
      "['19', 'Dangerous curve to the left']\n",
      "['20', 'Dangerous curve to the right']\n",
      "['21', 'Double curve']\n",
      "['22', 'Bumpy road']\n",
      "['23', 'Slippery road']\n",
      "['24', 'Road narrows on the right']\n",
      "['25', 'Road work']\n",
      "['26', 'Traffic signals']\n",
      "['27', 'Pedestrians']\n",
      "['28', 'Children crossing']\n",
      "['29', 'Bicycles crossing']\n",
      "['30', 'Beware of ice/snow']\n",
      "['31', 'Wild animals crossing']\n",
      "['32', 'End of all speed and passing limits']\n",
      "['33', 'Turn right ahead']\n",
      "['34', 'Turn left ahead']\n",
      "['35', 'Ahead only']\n",
      "['36', 'Go straight or right']\n",
      "['37', 'Go straight or left']\n",
      "['38', 'Keep right']\n",
      "['39', 'Keep left']\n",
      "['40', 'Roundabout mandatory']\n",
      "['41', 'End of no passing']\n",
      "['42', 'End of no passing by vehicles over 3.5 metric tons']\n"
     ]
    }
   ],
   "source": [
    "with tf.Session() as sess:    \n",
    "    saver.restore(sess, checkpoint_dir)\n",
    "    sign_id = []\n",
    "    for i in range(5):\n",
    "        sign_id.append(sess.run(sign_id_prediction, feed_dict={features: images[i].reshape(1, 32, 32, 3), keep_prob: 1}))\n",
    "        print(sign_id[i])\n",
    "\n",
    "#print sign names\n",
    "import csv\n",
    "with open(\"signnames.csv\") as f:\n",
    "    reader = csv.reader(f)\n",
    "    for row in reader:\n",
    "        print(row)"
   ]
  },
  {
   "cell_type": "markdown",
   "metadata": {
    "deletable": true,
    "editable": true
   },
   "source": [
    "### Analyze Performance"
   ]
  },
  {
   "cell_type": "code",
   "execution_count": 60,
   "metadata": {
    "collapsed": false,
    "deletable": true,
    "editable": true
   },
   "outputs": [
    {
     "name": "stdout",
     "output_type": "stream",
     "text": [
      "accuracy: 0.8\n"
     ]
    }
   ],
   "source": [
    "num_images = len(images)\n",
    "accuracy = 0\n",
    "#turn left ahead\n",
    "if sign_id[0] == 34:\n",
    "    accuracy += 1/num_images\n",
    "#priority road\n",
    "if sign_id[1] == 12:\n",
    "    accuracy += 1/num_images\n",
    "#road work\n",
    "if sign_id[2] == 25:\n",
    "    accuracy += 1/num_images\n",
    "#stop\n",
    "if sign_id[3] == 14:\n",
    "    accuracy += 1/num_images\n",
    "#no entry\n",
    "if sign_id[4] == 17:\n",
    "    accuracy += 1/num_images\n",
    "    \n",
    "print(\"accuracy: \" + str(accuracy))"
   ]
  },
  {
   "cell_type": "markdown",
   "metadata": {
    "deletable": true,
    "editable": true
   },
   "source": [
    "### Output Top 5 Softmax Probabilities For Each Image Found on the Web"
   ]
  },
  {
   "cell_type": "markdown",
   "metadata": {
    "deletable": true,
    "editable": true
   },
   "source": [
    "For each of the new images, print out the model's softmax probabilities to show the **certainty** of the model's predictions (limit the output to the top 5 probabilities for each image). [`tf.nn.top_k`](https://www.tensorflow.org/versions/r0.12/api_docs/python/nn.html#top_k) could prove helpful here. \n",
    "\n",
    "The example below demonstrates how tf.nn.top_k can be used to find the top k predictions for each image.\n",
    "\n",
    "`tf.nn.top_k` will return the values and indices (class ids) of the top k predictions. So if k=3, for each sign, it'll return the 3 largest probabilities (out of a possible 43) and the correspoding class ids.\n",
    "\n",
    "Take this numpy array as an example. The values in the array represent predictions. The array contains softmax probabilities for five candidate images with six possible classes. `tk.nn.top_k` is used to choose the three classes with the highest probability:\n",
    "\n",
    "```\n",
    "# (5, 6) array\n",
    "a = np.array([[ 0.24879643,  0.07032244,  0.12641572,  0.34763842,  0.07893497,\n",
    "         0.12789202],\n",
    "       [ 0.28086119,  0.27569815,  0.08594638,  0.0178669 ,  0.18063401,\n",
    "         0.15899337],\n",
    "       [ 0.26076848,  0.23664738,  0.08020603,  0.07001922,  0.1134371 ,\n",
    "         0.23892179],\n",
    "       [ 0.11943333,  0.29198961,  0.02605103,  0.26234032,  0.1351348 ,\n",
    "         0.16505091],\n",
    "       [ 0.09561176,  0.34396535,  0.0643941 ,  0.16240774,  0.24206137,\n",
    "         0.09155967]])\n",
    "```\n",
    "\n",
    "Running it through `sess.run(tf.nn.top_k(tf.constant(a), k=3))` produces:\n",
    "\n",
    "```\n",
    "TopKV2(values=array([[ 0.34763842,  0.24879643,  0.12789202],\n",
    "       [ 0.28086119,  0.27569815,  0.18063401],\n",
    "       [ 0.26076848,  0.23892179,  0.23664738],\n",
    "       [ 0.29198961,  0.26234032,  0.16505091],\n",
    "       [ 0.34396535,  0.24206137,  0.16240774]]), indices=array([[3, 0, 5],\n",
    "       [0, 1, 4],\n",
    "       [0, 5, 1],\n",
    "       [1, 3, 5],\n",
    "       [1, 4, 3]], dtype=int32))\n",
    "```\n",
    "\n",
    "Looking just at the first row we get `[ 0.34763842,  0.24879643,  0.12789202]`, you can confirm these are the 3 largest probabilities in `a`. You'll also notice `[3, 0, 5]` are the corresponding indices."
   ]
  },
  {
   "cell_type": "code",
   "execution_count": 35,
   "metadata": {
    "collapsed": false,
    "deletable": true,
    "editable": true
   },
   "outputs": [
    {
     "name": "stdout",
     "output_type": "stream",
     "text": [
      "Top probabilities of sign 0\n",
      "[[  9.49689984e-01   3.30974348e-02   1.66698173e-02   2.30097881e-04\n",
      "    1.17001386e-04]]\n",
      "[[38 40 35 13 34]]\n",
      "Top probabilities of sign 1\n",
      "[[  1.00000000e+00   2.99297913e-12   7.54282325e-13   5.78528002e-13\n",
      "    4.31623839e-13]]\n",
      "[[12 11 16  9 40]]\n",
      "Top probabilities of sign 2\n",
      "[[  9.99995947e-01   3.01814225e-06   4.22601488e-07   2.89046028e-07\n",
      "    1.48523739e-07]]\n",
      "[[25 22 29 24 20]]\n",
      "Top probabilities of sign 3\n",
      "[[  9.34814870e-01   6.51851743e-02   7.38676009e-09   2.69831690e-09\n",
      "    1.42267254e-09]]\n",
      "[[ 1 14  0 17  3]]\n",
      "Top probabilities of sign 4\n",
      "[[  1.00000000e+00   1.37304104e-15   9.99745210e-22   1.97800195e-22\n",
      "    1.04276667e-23]]\n",
      "[[17 14  1  0 13]]\n"
     ]
    }
   ],
   "source": [
    "### Print out the top five softmax probabilities for the predictions on the German traffic sign images found on the web. \n",
    "### Feel free to use as many code cells as needed.\n",
    "with tf.Session() as sess:    \n",
    "    saver.restore(sess, checkpoint_dir)\n",
    "    for i in range(5):\n",
    "        top_probabilities = sess.run(sign_top_predictions, feed_dict={features: images[i].reshape(1, 32, 32, 3),\n",
    "                                                            keep_prob: 1, top_k_number: 5})\n",
    "        print(\"Top probabilities of sign \" + str(i))\n",
    "        print(top_probabilities.values)\n",
    "        print(top_probabilities.indices)"
   ]
  },
  {
   "cell_type": "markdown",
   "metadata": {
    "deletable": true,
    "editable": true
   },
   "source": [
    "---\n",
    "\n",
    "## Step 4: Visualize the Neural Network's State with Test Images\n",
    "\n",
    " This Section is not required to complete but acts as an additional excersise for understaning the output of a neural network's weights. While neural networks can be a great learning device they are often referred to as a black box. We can understand what the weights of a neural network look like better by plotting their feature maps. After successfully training your neural network you can see what it's feature maps look like by plotting the output of the network's weight layers in response to a test stimuli image. From these plotted feature maps, it's possible to see what characteristics of an image the network finds interesting. For a sign, maybe the inner network feature maps react with high activation to the sign's boundary outline or to the contrast in the sign's painted symbol.\n",
    "\n",
    " Provided for you below is the function code that allows you to get the visualization output of any tensorflow weight layer you want. The inputs to the function should be a stimuli image, one used during training or a new one you provided, and then the tensorflow variable name that represents the layer's state during the training process, for instance if you wanted to see what the [LeNet lab's](https://classroom.udacity.com/nanodegrees/nd013/parts/fbf77062-5703-404e-b60c-95b78b2f3f9e/modules/6df7ae49-c61c-4bb2-a23e-6527e69209ec/lessons/601ae704-1035-4287-8b11-e2c2716217ad/concepts/d4aca031-508f-4e0b-b493-e7b706120f81) feature maps looked like for it's second convolutional layer you could enter conv2 as the tf_activation variable.\n",
    "\n",
    "For an example of what feature map outputs look like, check out NVIDIA's results in their paper [End-to-End Deep Learning for Self-Driving Cars](https://devblogs.nvidia.com/parallelforall/deep-learning-self-driving-cars/) in the section Visualization of internal CNN State. NVIDIA was able to show that their network's inner weights had high activations to road boundary lines by comparing feature maps from an image with a clear path to one without. Try experimenting with a similar test to show that your trained network's weights are looking for interesting features, whether it's looking at differences in feature maps from images with or without a sign, or even what feature maps look like in a trained network vs a completely untrained one on the same sign image.\n",
    "\n",
    "<figure>\n",
    " <img src=\"visualize_cnn.png\" width=\"380\" alt=\"Combined Image\" />\n",
    " <figcaption>\n",
    " <p></p> \n",
    " <p style=\"text-align: center;\"> Your output should look something like this (above)</p> \n",
    " </figcaption>\n",
    "</figure>\n",
    " <p></p> \n"
   ]
  },
  {
   "cell_type": "code",
   "execution_count": null,
   "metadata": {
    "collapsed": true,
    "deletable": true,
    "editable": true
   },
   "outputs": [],
   "source": [
    "### Visualize your network's feature maps here.\n",
    "### Feel free to use as many code cells as needed.\n",
    "\n",
    "# image_input: the test image being fed into the network to produce the feature maps\n",
    "# tf_activation: should be a tf variable name used during your training procedure that represents the calculated state of a specific weight layer\n",
    "# activation_min/max: can be used to view the activation contrast in more detail, by default matplot sets min and max to the actual min and max values of the output\n",
    "# plt_num: used to plot out multiple different weight feature map sets on the same block, just extend the plt number for each new feature map entry\n",
    "\n",
    "def outputFeatureMap(image_input, tf_activation, activation_min=-1, activation_max=-1 ,plt_num=1):\n",
    "    # Here make sure to preprocess your image_input in a way your network expects\n",
    "    # with size, normalization, ect if needed\n",
    "    # image_input =\n",
    "    # Note: x should be the same name as your network's tensorflow data placeholder variable\n",
    "    # If you get an error tf_activation is not defined it maybe having trouble accessing the variable from inside a function\n",
    "    activation = tf_activation.eval(session=sess,feed_dict={x : image_input})\n",
    "    featuremaps = activation.shape[3]\n",
    "    plt.figure(plt_num, figsize=(15,15))\n",
    "    for featuremap in range(featuremaps):\n",
    "        plt.subplot(6,8, featuremap+1) # sets the number of feature maps to show on each row and column\n",
    "        plt.title('FeatureMap ' + str(featuremap)) # displays the feature map number\n",
    "        if activation_min != -1 & activation_max != -1:\n",
    "            plt.imshow(activation[0,:,:, featuremap], interpolation=\"nearest\", vmin =activation_min, vmax=activation_max, cmap=\"gray\")\n",
    "        elif activation_max != -1:\n",
    "            plt.imshow(activation[0,:,:, featuremap], interpolation=\"nearest\", vmax=activation_max, cmap=\"gray\")\n",
    "        elif activation_min !=-1:\n",
    "            plt.imshow(activation[0,:,:, featuremap], interpolation=\"nearest\", vmin=activation_min, cmap=\"gray\")\n",
    "        else:\n",
    "            plt.imshow(activation[0,:,:, featuremap], interpolation=\"nearest\", cmap=\"gray\")"
   ]
  },
  {
   "cell_type": "markdown",
   "metadata": {
    "deletable": true,
    "editable": true
   },
   "source": [
    "### Question 9\n",
    "\n",
    "Discuss how you used the visual output of your trained network's feature maps to show that it had learned to look for interesting characteristics in traffic sign images\n"
   ]
  },
  {
   "cell_type": "markdown",
   "metadata": {
    "deletable": true,
    "editable": true
   },
   "source": [
    "**Answer:**"
   ]
  },
  {
   "cell_type": "markdown",
   "metadata": {
    "deletable": true,
    "editable": true
   },
   "source": [
    "> **Note**: Once you have completed all of the code implementations and successfully answered each question above, you may finalize your work by exporting the iPython Notebook as an HTML document. You can do this by using the menu above and navigating to  \\n\",\n",
    "    \"**File -> Download as -> HTML (.html)**. Include the finished document along with this notebook as your submission."
   ]
  },
  {
   "cell_type": "markdown",
   "metadata": {
    "deletable": true,
    "editable": true
   },
   "source": [
    "### Project Writeup\n",
    "\n",
    "Once you have completed the code implementation, document your results in a project writeup using this [template](https://github.com/udacity/CarND-Traffic-Sign-Classifier-Project/blob/master/writeup_template.md) as a guide. The writeup can be in a markdown or pdf file. "
   ]
  }
 ],
 "metadata": {
  "anaconda-cloud": {},
  "kernelspec": {
   "display_name": "Python 3",
   "language": "python",
   "name": "python3"
  },
  "language_info": {
   "codemirror_mode": {
    "name": "ipython",
    "version": 3.0
   },
   "file_extension": ".py",
   "mimetype": "text/x-python",
   "name": "python",
   "nbconvert_exporter": "python",
   "pygments_lexer": "ipython3",
   "version": "3.5.2"
  },
  "widgets": {
   "state": {},
   "version": "1.1.2"
  }
 },
 "nbformat": 4,
 "nbformat_minor": 0
}